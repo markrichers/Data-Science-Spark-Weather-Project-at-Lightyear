{
 "cells": [
  {
   "cell_type": "code",
   "execution_count": 1,
   "metadata": {},
   "outputs": [],
   "source": [
    "import logging\n",
    "import matplotlib\n",
    "import matplotlib.pyplot as plt\n",
    "import seaborn as sns\n",
    "%matplotlib inline\n",
    "import sys\n",
    "\n",
    "from IPython.display import Image\n",
    "from IPython.core.display import HTML"
   ]
  },
  {
   "cell_type": "code",
   "execution_count": 2,
   "metadata": {},
   "outputs": [],
   "source": [
    "logging.basicConfig(format='%(asctime)s %(levelname)s %(name)s %(message)s', level=logging.DEBUG)\n",
    "mpl=logging.getLogger('matplotlib')\n",
    "mpl.setLevel(logging.WARNING)"
   ]
  },
  {
   "cell_type": "code",
   "execution_count": 3,
   "metadata": {},
   "outputs": [],
   "source": [
    "%load_ext autoreload\n",
    "%autoreload 2"
   ]
  },
  {
   "cell_type": "code",
   "execution_count": 4,
   "metadata": {},
   "outputs": [],
   "source": [
    "from dwd_forecast import DWD\n",
    "from weather_plot import DwdForecastPlot"
   ]
  },
  {
   "cell_type": "code",
   "execution_count": 5,
   "metadata": {},
   "outputs": [],
   "source": [
    "d=DWD()"
   ]
  },
  {
   "cell_type": "code",
   "execution_count": 6,
   "metadata": {},
   "outputs": [],
   "source": [
    "# !pip install lxml bs4 html5lib"
   ]
  },
  {
   "cell_type": "code",
   "execution_count": 7,
   "metadata": {},
   "outputs": [
    {
     "ename": "KeyError",
     "evalue": "\"None of [Index(['Flussgebiet'], dtype='object')] are in the [columns]\"",
     "output_type": "error",
     "traceback": [
      "\u001b[1;31m---------------------------------------------------------------------------\u001b[0m",
      "\u001b[1;31mKeyError\u001b[0m                                  Traceback (most recent call last)",
      "Cell \u001b[1;32mIn[7], line 1\u001b[0m\n\u001b[1;32m----> 1\u001b[0m sl\u001b[39m=\u001b[39md\u001b[39m.\u001b[39;49mread_station_list()\n",
      "File \u001b[1;32mc:\\Users\\Mark-Nguyen\\Desktop\\LightYear workdoccument\\ICONs\\python-dwd-forecast\\dwd_forecast.py:154\u001b[0m, in \u001b[0;36mDWD.read_station_list\u001b[1;34m(self, force_cache_refresh)\u001b[0m\n\u001b[0;32m    152\u001b[0m lst \u001b[39m=\u001b[39m pd\u001b[39m.\u001b[39mread_html(station_list_raw, header\u001b[39m=\u001b[39m\u001b[39m2\u001b[39m)\n\u001b[0;32m    153\u001b[0m df \u001b[39m=\u001b[39m lst[\u001b[39m0\u001b[39m]\n\u001b[1;32m--> 154\u001b[0m df[[\u001b[39m'\u001b[39m\u001b[39mFlussgebiet\u001b[39m\u001b[39m'\u001b[39m]] \u001b[39m=\u001b[39m df[[\u001b[39m'\u001b[39;49m\u001b[39mFlussgebiet\u001b[39;49m\u001b[39m'\u001b[39;49m]]\u001b[39m.\u001b[39mastype(\n\u001b[0;32m    155\u001b[0m     \u001b[39mfloat\u001b[39m)  \u001b[39m# NaN is not supported with int\u001b[39;00m\n\u001b[0;32m    156\u001b[0m df[[\u001b[39m'\u001b[39m\u001b[39mStations_ID\u001b[39m\u001b[39m'\u001b[39m, \u001b[39m'\u001b[39m\u001b[39mStations-höhe\u001b[39m\u001b[39m'\u001b[39m]\n\u001b[0;32m    157\u001b[0m ] \u001b[39m=\u001b[39m df[[\u001b[39m'\u001b[39m\u001b[39mStations_ID\u001b[39m\u001b[39m'\u001b[39m, \u001b[39m'\u001b[39m\u001b[39mStations-höhe\u001b[39m\u001b[39m'\u001b[39m]]\u001b[39m.\u001b[39mastype(\u001b[39mint\u001b[39m)\n\u001b[0;32m    158\u001b[0m df[[\u001b[39m'\u001b[39m\u001b[39mBreite\u001b[39m\u001b[39m'\u001b[39m, \u001b[39m'\u001b[39m\u001b[39mLänge\u001b[39m\u001b[39m'\u001b[39m]] \u001b[39m=\u001b[39m df[[\u001b[39m'\u001b[39m\u001b[39mBreite\u001b[39m\u001b[39m'\u001b[39m, \u001b[39m'\u001b[39m\u001b[39mLänge\u001b[39m\u001b[39m'\u001b[39m]]\u001b[39m.\u001b[39mastype(\u001b[39mfloat\u001b[39m)\n",
      "File \u001b[1;32md:\\Python\\Lib\\site-packages\\pandas\\core\\frame.py:3811\u001b[0m, in \u001b[0;36mDataFrame.__getitem__\u001b[1;34m(self, key)\u001b[0m\n\u001b[0;32m   3809\u001b[0m     \u001b[39mif\u001b[39;00m is_iterator(key):\n\u001b[0;32m   3810\u001b[0m         key \u001b[39m=\u001b[39m \u001b[39mlist\u001b[39m(key)\n\u001b[1;32m-> 3811\u001b[0m     indexer \u001b[39m=\u001b[39m \u001b[39mself\u001b[39;49m\u001b[39m.\u001b[39;49mcolumns\u001b[39m.\u001b[39;49m_get_indexer_strict(key, \u001b[39m\"\u001b[39;49m\u001b[39mcolumns\u001b[39;49m\u001b[39m\"\u001b[39;49m)[\u001b[39m1\u001b[39m]\n\u001b[0;32m   3813\u001b[0m \u001b[39m# take() does not accept boolean indexers\u001b[39;00m\n\u001b[0;32m   3814\u001b[0m \u001b[39mif\u001b[39;00m \u001b[39mgetattr\u001b[39m(indexer, \u001b[39m\"\u001b[39m\u001b[39mdtype\u001b[39m\u001b[39m\"\u001b[39m, \u001b[39mNone\u001b[39;00m) \u001b[39m==\u001b[39m \u001b[39mbool\u001b[39m:\n",
      "File \u001b[1;32md:\\Python\\Lib\\site-packages\\pandas\\core\\indexes\\base.py:6113\u001b[0m, in \u001b[0;36mIndex._get_indexer_strict\u001b[1;34m(self, key, axis_name)\u001b[0m\n\u001b[0;32m   6110\u001b[0m \u001b[39melse\u001b[39;00m:\n\u001b[0;32m   6111\u001b[0m     keyarr, indexer, new_indexer \u001b[39m=\u001b[39m \u001b[39mself\u001b[39m\u001b[39m.\u001b[39m_reindex_non_unique(keyarr)\n\u001b[1;32m-> 6113\u001b[0m \u001b[39mself\u001b[39;49m\u001b[39m.\u001b[39;49m_raise_if_missing(keyarr, indexer, axis_name)\n\u001b[0;32m   6115\u001b[0m keyarr \u001b[39m=\u001b[39m \u001b[39mself\u001b[39m\u001b[39m.\u001b[39mtake(indexer)\n\u001b[0;32m   6116\u001b[0m \u001b[39mif\u001b[39;00m \u001b[39misinstance\u001b[39m(key, Index):\n\u001b[0;32m   6117\u001b[0m     \u001b[39m# GH 42790 - Preserve name from an Index\u001b[39;00m\n",
      "File \u001b[1;32md:\\Python\\Lib\\site-packages\\pandas\\core\\indexes\\base.py:6173\u001b[0m, in \u001b[0;36mIndex._raise_if_missing\u001b[1;34m(self, key, indexer, axis_name)\u001b[0m\n\u001b[0;32m   6171\u001b[0m     \u001b[39mif\u001b[39;00m use_interval_msg:\n\u001b[0;32m   6172\u001b[0m         key \u001b[39m=\u001b[39m \u001b[39mlist\u001b[39m(key)\n\u001b[1;32m-> 6173\u001b[0m     \u001b[39mraise\u001b[39;00m \u001b[39mKeyError\u001b[39;00m(\u001b[39mf\u001b[39m\u001b[39m\"\u001b[39m\u001b[39mNone of [\u001b[39m\u001b[39m{\u001b[39;00mkey\u001b[39m}\u001b[39;00m\u001b[39m] are in the [\u001b[39m\u001b[39m{\u001b[39;00maxis_name\u001b[39m}\u001b[39;00m\u001b[39m]\u001b[39m\u001b[39m\"\u001b[39m)\n\u001b[0;32m   6175\u001b[0m not_found \u001b[39m=\u001b[39m \u001b[39mlist\u001b[39m(ensure_index(key)[missing_mask\u001b[39m.\u001b[39mnonzero()[\u001b[39m0\u001b[39m]]\u001b[39m.\u001b[39munique())\n\u001b[0;32m   6176\u001b[0m \u001b[39mraise\u001b[39;00m \u001b[39mKeyError\u001b[39;00m(\u001b[39mf\u001b[39m\u001b[39m\"\u001b[39m\u001b[39m{\u001b[39;00mnot_found\u001b[39m}\u001b[39;00m\u001b[39m not in index\u001b[39m\u001b[39m\"\u001b[39m)\n",
      "\u001b[1;31mKeyError\u001b[0m: \"None of [Index(['Flussgebiet'], dtype='object')] are in the [columns]\""
     ]
    }
   ],
   "source": [
    "sl=d.read_station_list()"
   ]
  },
  {
   "cell_type": "code",
   "execution_count": 15,
   "metadata": {},
   "outputs": [
    {
     "ename": "NameError",
     "evalue": "name 'sl' is not defined",
     "output_type": "error",
     "traceback": [
      "\u001b[1;31m---------------------------------------------------------------------------\u001b[0m",
      "\u001b[1;31mNameError\u001b[0m                                 Traceback (most recent call last)",
      "Cell \u001b[1;32mIn[15], line 1\u001b[0m\n\u001b[1;32m----> 1\u001b[0m \u001b[43msl\u001b[49m\u001b[38;5;241m.\u001b[39mhead()\n",
      "\u001b[1;31mNameError\u001b[0m: name 'sl' is not defined"
     ]
    }
   ],
   "source": [
    "sl.head()"
   ]
  },
  {
   "cell_type": "code",
   "execution_count": 11,
   "metadata": {},
   "outputs": [
    {
     "name": "stderr",
     "output_type": "stream",
     "text": [
      "2023-01-25 12:00:02,900 INFO DWD Refreshing station forecast, age is > 3600\n",
      "2023-01-25 12:00:02,999 DEBUG DWD Station forecast 10865 read from cache ./cache\\station-forecast-10865.json\n",
      "2023-01-25 12:00:03,000 DEBUG DWD Downloading: https://opendata.dwd.de/weather/local_forecasts/mos/MOSMIX_L/single_stations/10865/kml/MOSMIX_L_LATEST_10865.kmz\n",
      "2023-01-25 12:00:03,460 DEBUG DWD Starting to parse station 10865 xml...\n",
      "2023-01-25 12:00:03,465 DEBUG DWD parsed xml\n",
      "c:\\Users\\Mark-Nguyen\\Desktop\\LightYear workdoccument\\ICONs\\python-dwd-forecast\\dwd_forecast.py:300: PerformanceWarning: DataFrame is highly fragmented.  This is usually the result of calling `frame.insert` many times, which has poor performance.  Consider joining all columns at once using pd.concat(axis=1) instead. To get a de-fragmented frame, use `newframe = frame.copy()`\n",
      "  dfd[key] = pd.to_numeric(\n",
      "c:\\Users\\Mark-Nguyen\\Desktop\\LightYear workdoccument\\ICONs\\python-dwd-forecast\\dwd_forecast.py:300: PerformanceWarning: DataFrame is highly fragmented.  This is usually the result of calling `frame.insert` many times, which has poor performance.  Consider joining all columns at once using pd.concat(axis=1) instead. To get a de-fragmented frame, use `newframe = frame.copy()`\n",
      "  dfd[key] = pd.to_numeric(\n",
      "c:\\Users\\Mark-Nguyen\\Desktop\\LightYear workdoccument\\ICONs\\python-dwd-forecast\\dwd_forecast.py:300: PerformanceWarning: DataFrame is highly fragmented.  This is usually the result of calling `frame.insert` many times, which has poor performance.  Consider joining all columns at once using pd.concat(axis=1) instead. To get a de-fragmented frame, use `newframe = frame.copy()`\n",
      "  dfd[key] = pd.to_numeric(\n",
      "c:\\Users\\Mark-Nguyen\\Desktop\\LightYear workdoccument\\ICONs\\python-dwd-forecast\\dwd_forecast.py:300: PerformanceWarning: DataFrame is highly fragmented.  This is usually the result of calling `frame.insert` many times, which has poor performance.  Consider joining all columns at once using pd.concat(axis=1) instead. To get a de-fragmented frame, use `newframe = frame.copy()`\n",
      "  dfd[key] = pd.to_numeric(\n",
      "c:\\Users\\Mark-Nguyen\\Desktop\\LightYear workdoccument\\ICONs\\python-dwd-forecast\\dwd_forecast.py:300: PerformanceWarning: DataFrame is highly fragmented.  This is usually the result of calling `frame.insert` many times, which has poor performance.  Consider joining all columns at once using pd.concat(axis=1) instead. To get a de-fragmented frame, use `newframe = frame.copy()`\n",
      "  dfd[key] = pd.to_numeric(\n",
      "c:\\Users\\Mark-Nguyen\\Desktop\\LightYear workdoccument\\ICONs\\python-dwd-forecast\\dwd_forecast.py:300: PerformanceWarning: DataFrame is highly fragmented.  This is usually the result of calling `frame.insert` many times, which has poor performance.  Consider joining all columns at once using pd.concat(axis=1) instead. To get a de-fragmented frame, use `newframe = frame.copy()`\n",
      "  dfd[key] = pd.to_numeric(\n",
      "c:\\Users\\Mark-Nguyen\\Desktop\\LightYear workdoccument\\ICONs\\python-dwd-forecast\\dwd_forecast.py:300: PerformanceWarning: DataFrame is highly fragmented.  This is usually the result of calling `frame.insert` many times, which has poor performance.  Consider joining all columns at once using pd.concat(axis=1) instead. To get a de-fragmented frame, use `newframe = frame.copy()`\n",
      "  dfd[key] = pd.to_numeric(\n",
      "c:\\Users\\Mark-Nguyen\\Desktop\\LightYear workdoccument\\ICONs\\python-dwd-forecast\\dwd_forecast.py:300: PerformanceWarning: DataFrame is highly fragmented.  This is usually the result of calling `frame.insert` many times, which has poor performance.  Consider joining all columns at once using pd.concat(axis=1) instead. To get a de-fragmented frame, use `newframe = frame.copy()`\n",
      "  dfd[key] = pd.to_numeric(\n",
      "c:\\Users\\Mark-Nguyen\\Desktop\\LightYear workdoccument\\ICONs\\python-dwd-forecast\\dwd_forecast.py:300: PerformanceWarning: DataFrame is highly fragmented.  This is usually the result of calling `frame.insert` many times, which has poor performance.  Consider joining all columns at once using pd.concat(axis=1) instead. To get a de-fragmented frame, use `newframe = frame.copy()`\n",
      "  dfd[key] = pd.to_numeric(\n",
      "c:\\Users\\Mark-Nguyen\\Desktop\\LightYear workdoccument\\ICONs\\python-dwd-forecast\\dwd_forecast.py:300: PerformanceWarning: DataFrame is highly fragmented.  This is usually the result of calling `frame.insert` many times, which has poor performance.  Consider joining all columns at once using pd.concat(axis=1) instead. To get a de-fragmented frame, use `newframe = frame.copy()`\n",
      "  dfd[key] = pd.to_numeric(\n",
      "c:\\Users\\Mark-Nguyen\\Desktop\\LightYear workdoccument\\ICONs\\python-dwd-forecast\\dwd_forecast.py:300: PerformanceWarning: DataFrame is highly fragmented.  This is usually the result of calling `frame.insert` many times, which has poor performance.  Consider joining all columns at once using pd.concat(axis=1) instead. To get a de-fragmented frame, use `newframe = frame.copy()`\n",
      "  dfd[key] = pd.to_numeric(\n",
      "c:\\Users\\Mark-Nguyen\\Desktop\\LightYear workdoccument\\ICONs\\python-dwd-forecast\\dwd_forecast.py:300: PerformanceWarning: DataFrame is highly fragmented.  This is usually the result of calling `frame.insert` many times, which has poor performance.  Consider joining all columns at once using pd.concat(axis=1) instead. To get a de-fragmented frame, use `newframe = frame.copy()`\n",
      "  dfd[key] = pd.to_numeric(\n",
      "c:\\Users\\Mark-Nguyen\\Desktop\\LightYear workdoccument\\ICONs\\python-dwd-forecast\\dwd_forecast.py:300: PerformanceWarning: DataFrame is highly fragmented.  This is usually the result of calling `frame.insert` many times, which has poor performance.  Consider joining all columns at once using pd.concat(axis=1) instead. To get a de-fragmented frame, use `newframe = frame.copy()`\n",
      "  dfd[key] = pd.to_numeric(\n",
      "c:\\Users\\Mark-Nguyen\\Desktop\\LightYear workdoccument\\ICONs\\python-dwd-forecast\\dwd_forecast.py:300: PerformanceWarning: DataFrame is highly fragmented.  This is usually the result of calling `frame.insert` many times, which has poor performance.  Consider joining all columns at once using pd.concat(axis=1) instead. To get a de-fragmented frame, use `newframe = frame.copy()`\n",
      "  dfd[key] = pd.to_numeric(\n"
     ]
    }
   ],
   "source": [
    "dwc=d.station_forecast('10865')"
   ]
  },
  {
   "cell_type": "code",
   "execution_count": 12,
   "metadata": {},
   "outputs": [
    {
     "data": {
      "text/html": [
       "<div>\n",
       "<style scoped>\n",
       "    .dataframe tbody tr th:only-of-type {\n",
       "        vertical-align: middle;\n",
       "    }\n",
       "\n",
       "    .dataframe tbody tr th {\n",
       "        vertical-align: top;\n",
       "    }\n",
       "\n",
       "    .dataframe thead th {\n",
       "        text-align: right;\n",
       "    }\n",
       "</style>\n",
       "<table border=\"1\" class=\"dataframe\">\n",
       "  <thead>\n",
       "    <tr style=\"text-align: right;\">\n",
       "      <th></th>\n",
       "      <th>PPPP</th>\n",
       "      <th>E_PPP</th>\n",
       "      <th>TX</th>\n",
       "      <th>TTT</th>\n",
       "      <th>E_TTT</th>\n",
       "      <th>Td</th>\n",
       "      <th>E_Td</th>\n",
       "      <th>TN</th>\n",
       "      <th>TG</th>\n",
       "      <th>TM</th>\n",
       "      <th>...</th>\n",
       "      <th>RRad1</th>\n",
       "      <th>Rad1h</th>\n",
       "      <th>SunD1</th>\n",
       "      <th>SunD3</th>\n",
       "      <th>PEvap</th>\n",
       "      <th>WPc11</th>\n",
       "      <th>WPc31</th>\n",
       "      <th>WPc61</th>\n",
       "      <th>WPch1</th>\n",
       "      <th>WPcd1</th>\n",
       "    </tr>\n",
       "    <tr>\n",
       "      <th>time</th>\n",
       "      <th></th>\n",
       "      <th></th>\n",
       "      <th></th>\n",
       "      <th></th>\n",
       "      <th></th>\n",
       "      <th></th>\n",
       "      <th></th>\n",
       "      <th></th>\n",
       "      <th></th>\n",
       "      <th></th>\n",
       "      <th></th>\n",
       "      <th></th>\n",
       "      <th></th>\n",
       "      <th></th>\n",
       "      <th></th>\n",
       "      <th></th>\n",
       "      <th></th>\n",
       "      <th></th>\n",
       "      <th></th>\n",
       "      <th></th>\n",
       "      <th></th>\n",
       "    </tr>\n",
       "  </thead>\n",
       "  <tbody>\n",
       "    <tr>\n",
       "      <th>2023-01-25 10:00:00</th>\n",
       "      <td>103280.0</td>\n",
       "      <td>20.0</td>\n",
       "      <td>NaN</td>\n",
       "      <td>273.15</td>\n",
       "      <td>0.5</td>\n",
       "      <td>271.85</td>\n",
       "      <td>0.5</td>\n",
       "      <td>NaN</td>\n",
       "      <td>NaN</td>\n",
       "      <td>NaN</td>\n",
       "      <td>...</td>\n",
       "      <td>17.0</td>\n",
       "      <td>290.0</td>\n",
       "      <td>0.0</td>\n",
       "      <td>0.0</td>\n",
       "      <td>NaN</td>\n",
       "      <td>61.0</td>\n",
       "      <td>NaN</td>\n",
       "      <td>NaN</td>\n",
       "      <td>NaN</td>\n",
       "      <td>NaN</td>\n",
       "    </tr>\n",
       "    <tr>\n",
       "      <th>2023-01-25 11:00:00</th>\n",
       "      <td>103220.0</td>\n",
       "      <td>30.0</td>\n",
       "      <td>NaN</td>\n",
       "      <td>273.55</td>\n",
       "      <td>0.5</td>\n",
       "      <td>271.85</td>\n",
       "      <td>0.5</td>\n",
       "      <td>NaN</td>\n",
       "      <td>NaN</td>\n",
       "      <td>NaN</td>\n",
       "      <td>...</td>\n",
       "      <td>22.0</td>\n",
       "      <td>420.0</td>\n",
       "      <td>0.0</td>\n",
       "      <td>0.0</td>\n",
       "      <td>NaN</td>\n",
       "      <td>61.0</td>\n",
       "      <td>NaN</td>\n",
       "      <td>NaN</td>\n",
       "      <td>NaN</td>\n",
       "      <td>NaN</td>\n",
       "    </tr>\n",
       "    <tr>\n",
       "      <th>2023-01-25 12:00:00</th>\n",
       "      <td>103150.0</td>\n",
       "      <td>40.0</td>\n",
       "      <td>NaN</td>\n",
       "      <td>273.65</td>\n",
       "      <td>0.5</td>\n",
       "      <td>271.85</td>\n",
       "      <td>0.5</td>\n",
       "      <td>NaN</td>\n",
       "      <td>NaN</td>\n",
       "      <td>NaN</td>\n",
       "      <td>...</td>\n",
       "      <td>25.0</td>\n",
       "      <td>480.0</td>\n",
       "      <td>0.0</td>\n",
       "      <td>0.0</td>\n",
       "      <td>NaN</td>\n",
       "      <td>51.0</td>\n",
       "      <td>51.0</td>\n",
       "      <td>51.0</td>\n",
       "      <td>NaN</td>\n",
       "      <td>NaN</td>\n",
       "    </tr>\n",
       "    <tr>\n",
       "      <th>2023-01-25 13:00:00</th>\n",
       "      <td>103090.0</td>\n",
       "      <td>50.0</td>\n",
       "      <td>NaN</td>\n",
       "      <td>273.95</td>\n",
       "      <td>0.6</td>\n",
       "      <td>271.95</td>\n",
       "      <td>0.5</td>\n",
       "      <td>NaN</td>\n",
       "      <td>NaN</td>\n",
       "      <td>NaN</td>\n",
       "      <td>...</td>\n",
       "      <td>27.0</td>\n",
       "      <td>480.0</td>\n",
       "      <td>0.0</td>\n",
       "      <td>0.0</td>\n",
       "      <td>NaN</td>\n",
       "      <td>3.0</td>\n",
       "      <td>NaN</td>\n",
       "      <td>NaN</td>\n",
       "      <td>NaN</td>\n",
       "      <td>NaN</td>\n",
       "    </tr>\n",
       "    <tr>\n",
       "      <th>2023-01-25 14:00:00</th>\n",
       "      <td>103030.0</td>\n",
       "      <td>50.0</td>\n",
       "      <td>NaN</td>\n",
       "      <td>274.05</td>\n",
       "      <td>0.8</td>\n",
       "      <td>271.85</td>\n",
       "      <td>0.5</td>\n",
       "      <td>NaN</td>\n",
       "      <td>NaN</td>\n",
       "      <td>NaN</td>\n",
       "      <td>...</td>\n",
       "      <td>27.0</td>\n",
       "      <td>390.0</td>\n",
       "      <td>0.0</td>\n",
       "      <td>0.0</td>\n",
       "      <td>NaN</td>\n",
       "      <td>3.0</td>\n",
       "      <td>NaN</td>\n",
       "      <td>NaN</td>\n",
       "      <td>NaN</td>\n",
       "      <td>NaN</td>\n",
       "    </tr>\n",
       "    <tr>\n",
       "      <th>...</th>\n",
       "      <td>...</td>\n",
       "      <td>...</td>\n",
       "      <td>...</td>\n",
       "      <td>...</td>\n",
       "      <td>...</td>\n",
       "      <td>...</td>\n",
       "      <td>...</td>\n",
       "      <td>...</td>\n",
       "      <td>...</td>\n",
       "      <td>...</td>\n",
       "      <td>...</td>\n",
       "      <td>...</td>\n",
       "      <td>...</td>\n",
       "      <td>...</td>\n",
       "      <td>...</td>\n",
       "      <td>...</td>\n",
       "      <td>...</td>\n",
       "      <td>...</td>\n",
       "      <td>...</td>\n",
       "      <td>...</td>\n",
       "      <td>...</td>\n",
       "    </tr>\n",
       "    <tr>\n",
       "      <th>2023-01-29 09:00:00</th>\n",
       "      <td>102970.0</td>\n",
       "      <td>170.0</td>\n",
       "      <td>NaN</td>\n",
       "      <td>270.15</td>\n",
       "      <td>1.1</td>\n",
       "      <td>267.85</td>\n",
       "      <td>1.2</td>\n",
       "      <td>NaN</td>\n",
       "      <td>NaN</td>\n",
       "      <td>NaN</td>\n",
       "      <td>...</td>\n",
       "      <td>24.0</td>\n",
       "      <td>310.0</td>\n",
       "      <td>780.0</td>\n",
       "      <td>1440.0</td>\n",
       "      <td>NaN</td>\n",
       "      <td>3.0</td>\n",
       "      <td>3.0</td>\n",
       "      <td>3.0</td>\n",
       "      <td>NaN</td>\n",
       "      <td>NaN</td>\n",
       "    </tr>\n",
       "    <tr>\n",
       "      <th>2023-01-29 10:00:00</th>\n",
       "      <td>102960.0</td>\n",
       "      <td>170.0</td>\n",
       "      <td>NaN</td>\n",
       "      <td>271.15</td>\n",
       "      <td>1.1</td>\n",
       "      <td>267.95</td>\n",
       "      <td>1.3</td>\n",
       "      <td>NaN</td>\n",
       "      <td>NaN</td>\n",
       "      <td>NaN</td>\n",
       "      <td>...</td>\n",
       "      <td>32.0</td>\n",
       "      <td>570.0</td>\n",
       "      <td>900.0</td>\n",
       "      <td>2040.0</td>\n",
       "      <td>NaN</td>\n",
       "      <td>3.0</td>\n",
       "      <td>NaN</td>\n",
       "      <td>NaN</td>\n",
       "      <td>NaN</td>\n",
       "      <td>NaN</td>\n",
       "    </tr>\n",
       "    <tr>\n",
       "      <th>2023-01-29 11:00:00</th>\n",
       "      <td>102920.0</td>\n",
       "      <td>200.0</td>\n",
       "      <td>NaN</td>\n",
       "      <td>271.85</td>\n",
       "      <td>1.2</td>\n",
       "      <td>267.85</td>\n",
       "      <td>1.3</td>\n",
       "      <td>NaN</td>\n",
       "      <td>NaN</td>\n",
       "      <td>NaN</td>\n",
       "      <td>...</td>\n",
       "      <td>37.0</td>\n",
       "      <td>740.0</td>\n",
       "      <td>1140.0</td>\n",
       "      <td>2640.0</td>\n",
       "      <td>NaN</td>\n",
       "      <td>3.0</td>\n",
       "      <td>NaN</td>\n",
       "      <td>NaN</td>\n",
       "      <td>NaN</td>\n",
       "      <td>NaN</td>\n",
       "    </tr>\n",
       "    <tr>\n",
       "      <th>2023-01-29 12:00:00</th>\n",
       "      <td>102860.0</td>\n",
       "      <td>180.0</td>\n",
       "      <td>NaN</td>\n",
       "      <td>272.55</td>\n",
       "      <td>1.3</td>\n",
       "      <td>267.75</td>\n",
       "      <td>1.4</td>\n",
       "      <td>NaN</td>\n",
       "      <td>NaN</td>\n",
       "      <td>NaN</td>\n",
       "      <td>...</td>\n",
       "      <td>43.0</td>\n",
       "      <td>890.0</td>\n",
       "      <td>1560.0</td>\n",
       "      <td>3240.0</td>\n",
       "      <td>NaN</td>\n",
       "      <td>3.0</td>\n",
       "      <td>3.0</td>\n",
       "      <td>3.0</td>\n",
       "      <td>3.0</td>\n",
       "      <td>3.0</td>\n",
       "    </tr>\n",
       "    <tr>\n",
       "      <th>2023-01-29 13:00:00</th>\n",
       "      <td>102780.0</td>\n",
       "      <td>210.0</td>\n",
       "      <td>NaN</td>\n",
       "      <td>273.05</td>\n",
       "      <td>1.3</td>\n",
       "      <td>267.75</td>\n",
       "      <td>1.4</td>\n",
       "      <td>NaN</td>\n",
       "      <td>NaN</td>\n",
       "      <td>NaN</td>\n",
       "      <td>...</td>\n",
       "      <td>46.0</td>\n",
       "      <td>860.0</td>\n",
       "      <td>1500.0</td>\n",
       "      <td>3480.0</td>\n",
       "      <td>NaN</td>\n",
       "      <td>3.0</td>\n",
       "      <td>NaN</td>\n",
       "      <td>NaN</td>\n",
       "      <td>NaN</td>\n",
       "      <td>NaN</td>\n",
       "    </tr>\n",
       "  </tbody>\n",
       "</table>\n",
       "<p>100 rows × 114 columns</p>\n",
       "</div>"
      ],
      "text/plain": [
       "                         PPPP  E_PPP  TX     TTT  E_TTT      Td  E_Td  TN  TG  \\\n",
       "time                                                                            \n",
       "2023-01-25 10:00:00  103280.0   20.0 NaN  273.15    0.5  271.85   0.5 NaN NaN   \n",
       "2023-01-25 11:00:00  103220.0   30.0 NaN  273.55    0.5  271.85   0.5 NaN NaN   \n",
       "2023-01-25 12:00:00  103150.0   40.0 NaN  273.65    0.5  271.85   0.5 NaN NaN   \n",
       "2023-01-25 13:00:00  103090.0   50.0 NaN  273.95    0.6  271.95   0.5 NaN NaN   \n",
       "2023-01-25 14:00:00  103030.0   50.0 NaN  274.05    0.8  271.85   0.5 NaN NaN   \n",
       "...                       ...    ...  ..     ...    ...     ...   ...  ..  ..   \n",
       "2023-01-29 09:00:00  102970.0  170.0 NaN  270.15    1.1  267.85   1.2 NaN NaN   \n",
       "2023-01-29 10:00:00  102960.0  170.0 NaN  271.15    1.1  267.95   1.3 NaN NaN   \n",
       "2023-01-29 11:00:00  102920.0  200.0 NaN  271.85    1.2  267.85   1.3 NaN NaN   \n",
       "2023-01-29 12:00:00  102860.0  180.0 NaN  272.55    1.3  267.75   1.4 NaN NaN   \n",
       "2023-01-29 13:00:00  102780.0  210.0 NaN  273.05    1.3  267.75   1.4 NaN NaN   \n",
       "\n",
       "                     TM  ...  RRad1  Rad1h   SunD1   SunD3  PEvap  WPc11  \\\n",
       "time                     ...                                               \n",
       "2023-01-25 10:00:00 NaN  ...   17.0  290.0     0.0     0.0    NaN   61.0   \n",
       "2023-01-25 11:00:00 NaN  ...   22.0  420.0     0.0     0.0    NaN   61.0   \n",
       "2023-01-25 12:00:00 NaN  ...   25.0  480.0     0.0     0.0    NaN   51.0   \n",
       "2023-01-25 13:00:00 NaN  ...   27.0  480.0     0.0     0.0    NaN    3.0   \n",
       "2023-01-25 14:00:00 NaN  ...   27.0  390.0     0.0     0.0    NaN    3.0   \n",
       "...                  ..  ...    ...    ...     ...     ...    ...    ...   \n",
       "2023-01-29 09:00:00 NaN  ...   24.0  310.0   780.0  1440.0    NaN    3.0   \n",
       "2023-01-29 10:00:00 NaN  ...   32.0  570.0   900.0  2040.0    NaN    3.0   \n",
       "2023-01-29 11:00:00 NaN  ...   37.0  740.0  1140.0  2640.0    NaN    3.0   \n",
       "2023-01-29 12:00:00 NaN  ...   43.0  890.0  1560.0  3240.0    NaN    3.0   \n",
       "2023-01-29 13:00:00 NaN  ...   46.0  860.0  1500.0  3480.0    NaN    3.0   \n",
       "\n",
       "                     WPc31  WPc61  WPch1  WPcd1  \n",
       "time                                             \n",
       "2023-01-25 10:00:00    NaN    NaN    NaN    NaN  \n",
       "2023-01-25 11:00:00    NaN    NaN    NaN    NaN  \n",
       "2023-01-25 12:00:00   51.0   51.0    NaN    NaN  \n",
       "2023-01-25 13:00:00    NaN    NaN    NaN    NaN  \n",
       "2023-01-25 14:00:00    NaN    NaN    NaN    NaN  \n",
       "...                    ...    ...    ...    ...  \n",
       "2023-01-29 09:00:00    3.0    3.0    NaN    NaN  \n",
       "2023-01-29 10:00:00    NaN    NaN    NaN    NaN  \n",
       "2023-01-29 11:00:00    NaN    NaN    NaN    NaN  \n",
       "2023-01-29 12:00:00    3.0    3.0    3.0    3.0  \n",
       "2023-01-29 13:00:00    NaN    NaN    NaN    NaN  \n",
       "\n",
       "[100 rows x 114 columns]"
      ]
     },
     "execution_count": 12,
     "metadata": {},
     "output_type": "execute_result"
    }
   ],
   "source": [
    "dwc.head(100)\n",
    "\n",
    "# value maybe accumluated maybe instant\n",
    "# turn the data "
   ]
  },
  {
   "cell_type": "code",
   "execution_count": 17,
   "metadata": {},
   "outputs": [],
   "source": [
    "my_lat, my_lon=(48.15, 11.56)"
   ]
  },
  {
   "cell_type": "code",
   "execution_count": 18,
   "metadata": {},
   "outputs": [
    {
     "ename": "KeyError",
     "evalue": "\"None of [Index(['Stations_ID', 'Stations-höhe'], dtype='object')] are in the [columns]\"",
     "output_type": "error",
     "traceback": [
      "\u001b[1;31m---------------------------------------------------------------------------\u001b[0m",
      "\u001b[1;31mKeyError\u001b[0m                                  Traceback (most recent call last)",
      "Cell \u001b[1;32mIn[18], line 1\u001b[0m\n\u001b[1;32m----> 1\u001b[0m nearest\u001b[39m=\u001b[39md\u001b[39m.\u001b[39;49mget_closest(my_lat,my_lon)\n\u001b[0;32m      2\u001b[0m \u001b[39mprint\u001b[39m(nearest)\n",
      "File \u001b[1;32mc:\\Users\\Mark-Nguyen\\Desktop\\LightYear workdoccument\\ICONs\\python-dwd-forecast\\dwd_forecast.py:92\u001b[0m, in \u001b[0;36mDWD.get_closest\u001b[1;34m(self, lat, lon)\u001b[0m\n\u001b[0;32m     90\u001b[0m     \u001b[39mreturn\u001b[39;00m \u001b[39mNone\u001b[39;00m\n\u001b[0;32m     91\u001b[0m \u001b[39mif\u001b[39;00m \u001b[39mself\u001b[39m\u001b[39m.\u001b[39mstation_list_df \u001b[39mis\u001b[39;00m \u001b[39mNone\u001b[39;00m:\n\u001b[1;32m---> 92\u001b[0m     \u001b[39mself\u001b[39;49m\u001b[39m.\u001b[39;49mread_station_list()\n\u001b[0;32m     93\u001b[0m dists\u001b[39m=\u001b[39m[]\n\u001b[0;32m     94\u001b[0m \u001b[39mfor\u001b[39;00m i \u001b[39min\u001b[39;00m \u001b[39mrange\u001b[39m(\u001b[39mlen\u001b[39m(\u001b[39mself\u001b[39m\u001b[39m.\u001b[39mstation_list_df)):\n",
      "File \u001b[1;32mc:\\Users\\Mark-Nguyen\\Desktop\\LightYear workdoccument\\ICONs\\python-dwd-forecast\\dwd_forecast.py:157\u001b[0m, in \u001b[0;36mDWD.read_station_list\u001b[1;34m(self, force_cache_refresh)\u001b[0m\n\u001b[0;32m    153\u001b[0m df \u001b[39m=\u001b[39m lst[\u001b[39m0\u001b[39m]\n\u001b[0;32m    154\u001b[0m \u001b[39m# df[['Flussgebiet']] = df[['Flussgebiet']].astype(\u001b[39;00m\n\u001b[0;32m    155\u001b[0m \u001b[39m#     float)  # NaN is not supported with int\u001b[39;00m\n\u001b[0;32m    156\u001b[0m df[[\u001b[39m'\u001b[39m\u001b[39mStations_ID\u001b[39m\u001b[39m'\u001b[39m, \u001b[39m'\u001b[39m\u001b[39mStations-höhe\u001b[39m\u001b[39m'\u001b[39m]\n\u001b[1;32m--> 157\u001b[0m ] \u001b[39m=\u001b[39m df[[\u001b[39m'\u001b[39;49m\u001b[39mStations_ID\u001b[39;49m\u001b[39m'\u001b[39;49m, \u001b[39m'\u001b[39;49m\u001b[39mStations-höhe\u001b[39;49m\u001b[39m'\u001b[39;49m]]\u001b[39m.\u001b[39mastype(\u001b[39mint\u001b[39m)\n\u001b[0;32m    158\u001b[0m df[[\u001b[39m'\u001b[39m\u001b[39mBreite\u001b[39m\u001b[39m'\u001b[39m, \u001b[39m'\u001b[39m\u001b[39mLänge\u001b[39m\u001b[39m'\u001b[39m]] \u001b[39m=\u001b[39m df[[\u001b[39m'\u001b[39m\u001b[39mBreite\u001b[39m\u001b[39m'\u001b[39m, \u001b[39m'\u001b[39m\u001b[39mLänge\u001b[39m\u001b[39m'\u001b[39m]]\u001b[39m.\u001b[39mastype(\u001b[39mfloat\u001b[39m)\n\u001b[0;32m    159\u001b[0m df[\u001b[39m'\u001b[39m\u001b[39mBeginnDT\u001b[39m\u001b[39m'\u001b[39m] \u001b[39m=\u001b[39m pd\u001b[39m.\u001b[39mto_datetime(\n\u001b[0;32m    160\u001b[0m     df[\u001b[39m'\u001b[39m\u001b[39mBeginn\u001b[39m\u001b[39m'\u001b[39m], \u001b[39mformat\u001b[39m\u001b[39m=\u001b[39m\u001b[39m'\u001b[39m\u001b[39m%d\u001b[39;00m\u001b[39m.\u001b[39m\u001b[39m%\u001b[39m\u001b[39mm.\u001b[39m\u001b[39m%\u001b[39m\u001b[39mY\u001b[39m\u001b[39m'\u001b[39m, errors\u001b[39m=\u001b[39m\u001b[39m'\u001b[39m\u001b[39mignore\u001b[39m\u001b[39m'\u001b[39m)\n",
      "File \u001b[1;32md:\\Python\\Lib\\site-packages\\pandas\\core\\frame.py:3811\u001b[0m, in \u001b[0;36mDataFrame.__getitem__\u001b[1;34m(self, key)\u001b[0m\n\u001b[0;32m   3809\u001b[0m     \u001b[39mif\u001b[39;00m is_iterator(key):\n\u001b[0;32m   3810\u001b[0m         key \u001b[39m=\u001b[39m \u001b[39mlist\u001b[39m(key)\n\u001b[1;32m-> 3811\u001b[0m     indexer \u001b[39m=\u001b[39m \u001b[39mself\u001b[39;49m\u001b[39m.\u001b[39;49mcolumns\u001b[39m.\u001b[39;49m_get_indexer_strict(key, \u001b[39m\"\u001b[39;49m\u001b[39mcolumns\u001b[39;49m\u001b[39m\"\u001b[39;49m)[\u001b[39m1\u001b[39m]\n\u001b[0;32m   3813\u001b[0m \u001b[39m# take() does not accept boolean indexers\u001b[39;00m\n\u001b[0;32m   3814\u001b[0m \u001b[39mif\u001b[39;00m \u001b[39mgetattr\u001b[39m(indexer, \u001b[39m\"\u001b[39m\u001b[39mdtype\u001b[39m\u001b[39m\"\u001b[39m, \u001b[39mNone\u001b[39;00m) \u001b[39m==\u001b[39m \u001b[39mbool\u001b[39m:\n",
      "File \u001b[1;32md:\\Python\\Lib\\site-packages\\pandas\\core\\indexes\\base.py:6113\u001b[0m, in \u001b[0;36mIndex._get_indexer_strict\u001b[1;34m(self, key, axis_name)\u001b[0m\n\u001b[0;32m   6110\u001b[0m \u001b[39melse\u001b[39;00m:\n\u001b[0;32m   6111\u001b[0m     keyarr, indexer, new_indexer \u001b[39m=\u001b[39m \u001b[39mself\u001b[39m\u001b[39m.\u001b[39m_reindex_non_unique(keyarr)\n\u001b[1;32m-> 6113\u001b[0m \u001b[39mself\u001b[39;49m\u001b[39m.\u001b[39;49m_raise_if_missing(keyarr, indexer, axis_name)\n\u001b[0;32m   6115\u001b[0m keyarr \u001b[39m=\u001b[39m \u001b[39mself\u001b[39m\u001b[39m.\u001b[39mtake(indexer)\n\u001b[0;32m   6116\u001b[0m \u001b[39mif\u001b[39;00m \u001b[39misinstance\u001b[39m(key, Index):\n\u001b[0;32m   6117\u001b[0m     \u001b[39m# GH 42790 - Preserve name from an Index\u001b[39;00m\n",
      "File \u001b[1;32md:\\Python\\Lib\\site-packages\\pandas\\core\\indexes\\base.py:6173\u001b[0m, in \u001b[0;36mIndex._raise_if_missing\u001b[1;34m(self, key, indexer, axis_name)\u001b[0m\n\u001b[0;32m   6171\u001b[0m     \u001b[39mif\u001b[39;00m use_interval_msg:\n\u001b[0;32m   6172\u001b[0m         key \u001b[39m=\u001b[39m \u001b[39mlist\u001b[39m(key)\n\u001b[1;32m-> 6173\u001b[0m     \u001b[39mraise\u001b[39;00m \u001b[39mKeyError\u001b[39;00m(\u001b[39mf\u001b[39m\u001b[39m\"\u001b[39m\u001b[39mNone of [\u001b[39m\u001b[39m{\u001b[39;00mkey\u001b[39m}\u001b[39;00m\u001b[39m] are in the [\u001b[39m\u001b[39m{\u001b[39;00maxis_name\u001b[39m}\u001b[39;00m\u001b[39m]\u001b[39m\u001b[39m\"\u001b[39m)\n\u001b[0;32m   6175\u001b[0m not_found \u001b[39m=\u001b[39m \u001b[39mlist\u001b[39m(ensure_index(key)[missing_mask\u001b[39m.\u001b[39mnonzero()[\u001b[39m0\u001b[39m]]\u001b[39m.\u001b[39munique())\n\u001b[0;32m   6176\u001b[0m \u001b[39mraise\u001b[39;00m \u001b[39mKeyError\u001b[39;00m(\u001b[39mf\u001b[39m\u001b[39m\"\u001b[39m\u001b[39m{\u001b[39;00mnot_found\u001b[39m}\u001b[39;00m\u001b[39m not in index\u001b[39m\u001b[39m\"\u001b[39m)\n",
      "\u001b[1;31mKeyError\u001b[0m: \"None of [Index(['Stations_ID', 'Stations-höhe'], dtype='object')] are in the [columns]\""
     ]
    }
   ],
   "source": [
    "nearest=d.get_closest(my_lat,my_lon)\n",
    "print(nearest)"
   ]
  },
  {
   "cell_type": "code",
   "execution_count": 14,
   "metadata": {},
   "outputs": [],
   "source": [
    "sns.set()\n",
    "matplotlib.rc_file_defaults()"
   ]
  },
  {
   "cell_type": "code",
   "execution_count": 15,
   "metadata": {},
   "outputs": [],
   "source": [
    "wp=DwdForecastPlot()"
   ]
  },
  {
   "cell_type": "code",
   "execution_count": 16,
   "metadata": {},
   "outputs": [
    {
     "name": "stderr",
     "output_type": "stream",
     "text": [
      "2023-01-25 12:51:50,276 DEBUG DWD Station forecast 10865 read from cache ./cache\\station-forecast-10865.json\n"
     ]
    },
    {
     "data": {
      "text/plain": [
       "<Figure size 800x480 with 0 Axes>"
      ]
     },
     "metadata": {},
     "output_type": "display_data"
    },
    {
     "data": {
      "image/png": "[encoded data removed]",
      "text/plain": [
       "<Figure size 833.333x500 with 4 Axes>"
      ]
     },
     "metadata": {},
     "output_type": "display_data"
    }
   ],
   "source": [
    "ax1=wp.plot(\"10865\",image_file='weather.png', close_plot=False)\n",
    "# Image('weather.png')"
   ]
  },
  {
   "cell_type": "code",
   "execution_count": null,
   "metadata": {},
   "outputs": [],
   "source": [
    "from ipyleaflet import Map, Marker, MarkerCluster, AwesomeIcon"
   ]
  },
  {
   "cell_type": "code",
   "execution_count": null,
   "metadata": {},
   "outputs": [],
   "source": [
    "icon_home = AwesomeIcon(\n",
    "    name='home',\n",
    "    marker_color='blue',\n",
    "    icon_color='black',\n",
    "    spin=False\n",
    ")\n",
    "icon_station = AwesomeIcon(\n",
    "    name = 'thermometer-4',\n",
    "    marker_color='blue',\n",
    "    icon_color='black',\n",
    "    spin=False\n",
    ")\n"
   ]
  },
  {
   "cell_type": "code",
   "execution_count": 12,
   "metadata": {},
   "outputs": [
    {
     "ename": "NameError",
     "evalue": "name 'my_lat' is not defined",
     "output_type": "error",
     "traceback": [
      "\u001b[1;31m---------------------------------------------------------------------------\u001b[0m",
      "\u001b[1;31mNameError\u001b[0m                                 Traceback (most recent call last)",
      "Cell \u001b[1;32mIn[12], line 1\u001b[0m\n\u001b[1;32m----> 1\u001b[0m home\u001b[39m=\u001b[39m(my_lat,my_lon)\n\u001b[0;32m      2\u001b[0m center\u001b[39m=\u001b[39m(\u001b[39mmin\u001b[39m(sl[\u001b[39m'\u001b[39m\u001b[39mBreite\u001b[39m\u001b[39m'\u001b[39m])\u001b[39m+\u001b[39m(\u001b[39mmax\u001b[39m(sl[\u001b[39m'\u001b[39m\u001b[39mBreite\u001b[39m\u001b[39m'\u001b[39m])\u001b[39m-\u001b[39m\u001b[39mmin\u001b[39m(sl[\u001b[39m'\u001b[39m\u001b[39mBreite\u001b[39m\u001b[39m'\u001b[39m]))\u001b[39m/\u001b[39m\u001b[39m2\u001b[39m, \u001b[39mmin\u001b[39m(sl[\u001b[39m'\u001b[39m\u001b[39mLänge\u001b[39m\u001b[39m'\u001b[39m])\u001b[39m+\u001b[39m(\u001b[39mmax\u001b[39m(sl[\u001b[39m'\u001b[39m\u001b[39mLänge\u001b[39m\u001b[39m'\u001b[39m])\u001b[39m-\u001b[39m\u001b[39mmin\u001b[39m(sl[\u001b[39m'\u001b[39m\u001b[39mLänge\u001b[39m\u001b[39m'\u001b[39m]))\u001b[39m/\u001b[39m\u001b[39m2\u001b[39m)\n\u001b[0;32m      3\u001b[0m m\u001b[39m=\u001b[39mMap(center\u001b[39m=\u001b[39mcenter, zoom\u001b[39m=\u001b[39m\u001b[39m8\u001b[39m)\n",
      "\u001b[1;31mNameError\u001b[0m: name 'my_lat' is not defined"
     ]
    }
   ],
   "source": [
    "home=(my_lat,my_lon)\n",
    "center=(min(sl['Breite'])+(max(sl['Breite'])-min(sl['Breite']))/2, min(sl['Länge'])+(max(sl['Länge'])-min(sl['Länge']))/2)\n",
    "m=Map(center=center, zoom=8)"
   ]
  },
  {
   "cell_type": "code",
   "execution_count": 214,
   "metadata": {},
   "outputs": [
    {
     "data": {
      "application/vnd.jupyter.widget-view+json": {
       "model_id": "39f0d2fc42834d6c8f9d7675bd3db95b",
       "version_major": 2,
       "version_minor": 0
      },
      "text/plain": [
       "Map(center=[51.141000000000005, 10.469999999999999], controls=(ZoomControl(options=['position', 'zoom_in_text'…"
      ]
     },
     "metadata": {},
     "output_type": "display_data"
    }
   ],
   "source": [
    "marker = Marker(location=home, icon=icon_home, draggable=False, title=\"DWD weather station\")\n",
    "m.add_layer(marker);\n",
    "\n",
    "display(m)"
   ]
  },
  {
   "cell_type": "code",
   "execution_count": 215,
   "metadata": {},
   "outputs": [
    {
     "data": {
      "text/plain": [
       "47.271"
      ]
     },
     "execution_count": 215,
     "metadata": {},
     "output_type": "execute_result"
    }
   ],
   "source": [
    "min(sl['Breite'])"
   ]
  },
  {
   "cell_type": "code",
   "execution_count": 216,
   "metadata": {},
   "outputs": [
    {
     "data": {
      "text/plain": [
       "55.011"
      ]
     },
     "execution_count": 216,
     "metadata": {},
     "output_type": "execute_result"
    }
   ],
   "source": [
    "max(sl['Breite'])"
   ]
  },
  {
   "cell_type": "code",
   "execution_count": 217,
   "metadata": {},
   "outputs": [],
   "source": [
    "import pandas as pd"
   ]
  },
  {
   "cell_type": "code",
   "execution_count": 218,
   "metadata": {},
   "outputs": [],
   "source": [
    "stations=[]\n",
    "for i in range(len(sl)):\n",
    "    if d._is_uptodate(i) is True:\n",
    "        stations.append((sl['Breite'][i], sl['Länge'][i], sl['Stationsname'][i], sl['Kennung'][i], sl['Stations-kennung'][i], sl['Ende'][i]))"
   ]
  },
  {
   "cell_type": "code",
   "execution_count": 219,
   "metadata": {},
   "outputs": [
    {
     "data": {
      "text/plain": [
       "5910"
      ]
     },
     "execution_count": 219,
     "metadata": {},
     "output_type": "execute_result"
    }
   ],
   "source": [
    "len(stations)"
   ]
  },
  {
   "cell_type": "code",
   "execution_count": 220,
   "metadata": {},
   "outputs": [
    {
     "data": {
      "text/plain": [
       "18676"
      ]
     },
     "execution_count": 220,
     "metadata": {},
     "output_type": "execute_result"
    }
   ],
   "source": [
    "len(sl)"
   ]
  },
  {
   "cell_type": "code",
   "execution_count": 16,
   "metadata": {},
   "outputs": [],
   "source": [
    "import time\n",
    "import datetime"
   ]
  },
  {
   "cell_type": "code",
   "execution_count": 17,
   "metadata": {},
   "outputs": [
    {
     "ename": "NameError",
     "evalue": "name 'stations' is not defined",
     "output_type": "error",
     "traceback": [
      "\u001b[1;31m---------------------------------------------------------------------------\u001b[0m",
      "\u001b[1;31mNameError\u001b[0m                                 Traceback (most recent call last)",
      "Cell \u001b[1;32mIn[17], line 1\u001b[0m\n\u001b[1;32m----> 1\u001b[0m stations[:\u001b[39m10\u001b[39m]\n",
      "\u001b[1;31mNameError\u001b[0m: name 'stations' is not defined"
     ]
    }
   ],
   "source": [
    "stations[:10]"
   ]
  },
  {
   "cell_type": "code",
   "execution_count": 223,
   "metadata": {},
   "outputs": [],
   "source": [
    "dt=(datetime.datetime.now()-sl['EndeDT'][3]).total_seconds()"
   ]
  },
  {
   "cell_type": "code",
   "execution_count": 18,
   "metadata": {},
   "outputs": [],
   "source": [
    "from urllib.request import urlopen"
   ]
  },
  {
   "cell_type": "code",
   "execution_count": 19,
   "metadata": {},
   "outputs": [],
   "source": [
    "def get_forecast_stations():\n",
    "    url='https://opendata.dwd.de/weather/local_forecasts/mos/MOSMIX_L/single_stations'\n",
    "    try:\n",
    "        resp=urlopen(url)\n",
    "        data=resp.read()\n",
    "    except Exception as e:\n",
    "        logging.error(f\"Failed to download {url}: {e}\")\n",
    "        return None\n",
    "    return data"
   ]
  },
  {
   "cell_type": "code",
   "execution_count": 20,
   "metadata": {},
   "outputs": [],
   "source": [
    "data=get_forecast_stations()"
   ]
  },
  {
   "cell_type": "code",
   "execution_count": 21,
   "metadata": {},
   "outputs": [],
   "source": [
    "from bs4 import BeautifulSoup"
   ]
  },
  {
   "cell_type": "code",
   "execution_count": 22,
   "metadata": {},
   "outputs": [],
   "source": [
    "soup = BeautifulSoup(data, 'html.parser')\n",
    "raw_stations = []\n",
    "for a in soup.find_all('a', href=True): \n",
    "    if a.text: \n",
    "        raw_stations.append(a['href'][:-1])\n",
    "raw_stations=raw_stations[1:]"
   ]
  },
  {
   "cell_type": "code",
   "execution_count": 23,
   "metadata": {},
   "outputs": [
    {
     "data": {
      "text/plain": [
       "['01001',\n",
       " '01008',\n",
       " '01025',\n",
       " '01028',\n",
       " '01049',\n",
       " '01052',\n",
       " '01059',\n",
       " '01089',\n",
       " '01092',\n",
       " '01112']"
      ]
     },
     "execution_count": 23,
     "metadata": {},
     "output_type": "execute_result"
    }
   ],
   "source": [
    "raw_stations[:10]"
   ]
  },
  {
   "cell_type": "code",
   "execution_count": 24,
   "metadata": {},
   "outputs": [
    {
     "data": {
      "text/plain": [
       "6028"
      ]
     },
     "execution_count": 24,
     "metadata": {},
     "output_type": "execute_result"
    }
   ],
   "source": [
    "len(raw_stations)"
   ]
  },
  {
   "cell_type": "code",
   "execution_count": 25,
   "metadata": {},
   "outputs": [
    {
     "ename": "NameError",
     "evalue": "name 'sl' is not defined",
     "output_type": "error",
     "traceback": [
      "\u001b[1;31m---------------------------------------------------------------------------\u001b[0m",
      "\u001b[1;31mNameError\u001b[0m                                 Traceback (most recent call last)",
      "Cell \u001b[1;32mIn[25], line 2\u001b[0m\n\u001b[0;32m      1\u001b[0m val_stations\u001b[39m=\u001b[39m[]\n\u001b[1;32m----> 2\u001b[0m \u001b[39mfor\u001b[39;00m i \u001b[39min\u001b[39;00m \u001b[39mrange\u001b[39m(\u001b[39mlen\u001b[39m(sl)):\n\u001b[0;32m      3\u001b[0m     val_stations\u001b[39m.\u001b[39mappend(sl[\u001b[39m'\u001b[39m\u001b[39mStations-kennung\u001b[39m\u001b[39m'\u001b[39m][i])\n",
      "\u001b[1;31mNameError\u001b[0m: name 'sl' is not defined"
     ]
    }
   ],
   "source": [
    "val_stations=[]\n",
    "for i in range(len(sl)):\n",
    "    val_stations.append(sl['Stations-kennung'][i])"
   ]
  },
  {
   "cell_type": "code",
   "execution_count": 232,
   "metadata": {},
   "outputs": [
    {
     "data": {
      "text/plain": [
       "(18676, 5899)"
      ]
     },
     "execution_count": 232,
     "metadata": {},
     "output_type": "execute_result"
    }
   ],
   "source": [
    "len(val_stations), len(raw_stations)"
   ]
  },
  {
   "cell_type": "code",
   "execution_count": 233,
   "metadata": {},
   "outputs": [],
   "source": [
    "vir=[]\n",
    "riv=[]\n",
    "for i in range(len(val_stations)):\n",
    "    if val_stations[i] in raw_stations:\n",
    "        if val_stations[i] not in vir:\n",
    "            vir.append(val_stations[i])\n",
    "for i in range(len(raw_stations)):\n",
    "    if raw_stations[i] in val_stations:\n",
    "        riv.append(raw_stations[i])\n",
    "vir=sorted(vir)\n",
    "riv=sorted(riv)"
   ]
  },
  {
   "cell_type": "code",
   "execution_count": 234,
   "metadata": {},
   "outputs": [
    {
     "data": {
      "text/plain": [
       "(1750, 1750)"
      ]
     },
     "execution_count": 234,
     "metadata": {},
     "output_type": "execute_result"
    }
   ],
   "source": [
    "len(vir), len(riv)"
   ]
  },
  {
   "cell_type": "code",
   "execution_count": 235,
   "metadata": {},
   "outputs": [],
   "source": [
    "markers=[]\n",
    "done=[]\n",
    "for i in range(len(sl)):\n",
    "    kenn=sl['Stations-kennung'][i]\n",
    "    name=sl['Stationsname'][i]\n",
    "    if (kenn in vir) and (name not in done):\n",
    "        done.append(name)\n",
    "        marker = Marker(location=(sl['Breite'][i], sl['Länge'][i]), icon=icon_station, draggable=False, title=f\"{name}, id={kenn}\")\n",
    "        markers.append(marker)"
   ]
  },
  {
   "cell_type": "code",
   "execution_count": 236,
   "metadata": {},
   "outputs": [
    {
     "data": {
      "text/plain": [
       "1965"
      ]
     },
     "execution_count": 236,
     "metadata": {},
     "output_type": "execute_result"
    }
   ],
   "source": [
    "len(markers)"
   ]
  },
  {
   "cell_type": "code",
   "execution_count": 237,
   "metadata": {},
   "outputs": [],
   "source": [
    "marker_cluster = MarkerCluster(\n",
    "    markers=markers\n",
    ")"
   ]
  },
  {
   "cell_type": "code",
   "execution_count": 238,
   "metadata": {},
   "outputs": [],
   "source": [
    "m.add_layer(marker_cluster)"
   ]
  },
  {
   "cell_type": "code",
   "execution_count": 239,
   "metadata": {},
   "outputs": [
    {
     "data": {
      "application/vnd.jupyter.widget-view+json": {
       "model_id": "39f0d2fc42834d6c8f9d7675bd3db95b",
       "version_major": 2,
       "version_minor": 0
      },
      "text/plain": [
       "Map(center=[51.141000000000005, 10.469999999999999], controls=(ZoomControl(options=['position', 'zoom_in_text'…"
      ]
     },
     "metadata": {},
     "output_type": "display_data"
    }
   ],
   "source": [
    "m"
   ]
  },
  {
   "cell_type": "code",
   "execution_count": null,
   "metadata": {},
   "outputs": [],
   "source": []
  }
 ],
 "metadata": {
  "kernelspec": {
   "display_name": "Python 3",
   "language": "python",
   "name": "python3"
  },
  "language_info": {
   "codemirror_mode": {
    "name": "ipython",
    "version": 3
   },
   "file_extension": ".py",
   "mimetype": "text/x-python",
   "name": "python",
   "nbconvert_exporter": "python",
   "pygments_lexer": "ipython3",
   "version": "3.11.1 (tags/v3.11.1:a7a450f, Dec  6 2022, 19:58:39) [MSC v.1934 64 bit (AMD64)]"
  },
  "vscode": {
   "interpreter": {
    "hash": "2469a70536e4d2335a2ea8907942d0699c37342a371ac185bdb5b0aa6f073890"
   }
  }
 },
 "nbformat": 4,
 "nbformat_minor": 4
}
